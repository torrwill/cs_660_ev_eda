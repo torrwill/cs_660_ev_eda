{
 "cells": [
  {
   "cell_type": "markdown",
   "metadata": {},
   "source": [
    "# Exploratory Data Analysis of Electric Vehicle Population Data\n",
    "\n",
    "- **Course:** CS660/71425 Mathematical Foundations of Analytics\n",
    "- **Instructor:** Prof. Sarbanes\n",
    "- **Group-1:** Will Torres, Mike Griffin, Watson Blair, Syed Abdul Mubashir\n",
    "- **Semester:** Fall 2024\n",
    "- **Project #:** 1\n",
    "- **Due Date:** 07-Oct-2024"
   ]
  },
  {
   "cell_type": "markdown",
   "metadata": {},
   "source": [
    "## Project Description\n",
    "Exploratory Data Analysis (EDA) is essential for understanding, cleaning, and preparing data for further analysis in data science projects. This project focuses on analyzing the Electric Vehicle (EV) population dataset from Washington State, USA.\n"
   ]
  },
  {
   "cell_type": "markdown",
   "metadata": {},
   "source": [
    "## Questions to be Answered\n",
    "1. Which car manufacturers are most commonly used for EVs in Washington?\n",
    "2. What are the highest and lowest electric ranges in this dataset, and which car makers and models do they correspond to?\n",
    "3. Is the maximum electric range value unique? If not, which cars share this range?\n",
    "4. Is the minimum electric range value unique? If not, which cars share this range?\n",
    "5. How does the electric range vary between car makers and between models?\n",
    "6. Which are the top 5 cities adopting EVs?\n",
    "7. How does the EV adoption rate vary among car makers over the years?\n",
    "8. Is there a correlation between the electric range and the city of an EV?\n",
    "9. Which county has the greatest variety of EV car models?"
   ]
  },
  {
   "cell_type": "markdown",
   "metadata": {},
   "source": [
    "## EDA"
   ]
  },
  {
   "cell_type": "markdown",
   "metadata": {},
   "source": [
    "### Step 1: Understand the Dataset Context\n",
    "- **Objective Clarification**\n",
    "- **Data Source Identification**"
   ]
  },
  {
   "cell_type": "markdown",
   "metadata": {},
   "source": [
    "### Step 2: Import Libraries and Load Data\n",
    "- **Import Necessary Libraries:** `pandas`, `numpy`, `matplotlib`, `seaborn`\n",
    "- **Load the Dataset:** `EV_Population_WA_Data.csv`"
   ]
  },
  {
   "cell_type": "code",
   "execution_count": 6,
   "metadata": {},
   "outputs": [],
   "source": [
    "\"\"\"Imports\"\"\"\n",
    "import pandas as pd\n",
    "\n",
    "\n",
    "\"\"\"Load Data\"\"\"\n",
    "rawData = pd.read_csv('./data/EV_Population_WA_Data.csv')"
   ]
  },
  {
   "cell_type": "markdown",
   "metadata": {},
   "source": [
    "### Step 3: Initial Data Inspection\n",
    "- **View Data Structure:** `.head()`, `.info()`, `.describe()`\n",
    "- **Check Dimensions:** `.shape()`\n",
    "- **Identify Missing Values:** `.isnull().sum()`"
   ]
  },
  {
   "cell_type": "markdown",
   "metadata": {},
   "source": [
    "### Step 4: Data Cleaning\n",
    "- **Handle Missing/Incomplete Data**\n",
    "  - Range Data\n",
    "- **Handle Outliers**\n",
    "- **Correct Data Types**\n",
    "  - transform categorical data into numeric values for use in correlation operations \n",
    "  - \n",
    "- **Handle Duplicates**"
   ]
  },
  {
   "cell_type": "code",
   "execution_count": 25,
   "metadata": {},
   "outputs": [
    {
     "name": "stdout",
     "output_type": "stream",
     "text": [
      "Number of records missing Range before clean 109401\n",
      "Number of records missing MSRP before clean 196727\n",
      "Number of records missing Range after clean 109401\n",
      "Number of records missing MSRP after clean 196727\n"
     ]
    }
   ],
   "source": [
    "# from clean_data import dataCleaner # type: ignore\n",
    "\n",
    "# print('Number of records missing Range before clean', len(rawData[rawData['Electric Range'] == 0]))\n",
    "# print('Number of records missing MSRP before clean', len(rawData[rawData['Base MSRP'] == 0]))\n",
    "rangeByMakeAndModel = rawData[rawData['Electric Range'].gt(0)].groupby(['Make', 'Model'])\n",
    "\n",
    "intermediateData = rawData.merge(rawData)\n",
    "\n",
    "cleanData = intermediateData[intermediateData['Electric Range'].gt(0)]\n"
   ]
  },
  {
   "cell_type": "code",
   "execution_count": 17,
   "metadata": {},
   "outputs": [
    {
     "name": "stdout",
     "output_type": "stream",
     "text": [
      "764\n",
      "['Aberdeen' 'Aberdeen Proving Ground' 'Acme' 'Addy' 'Adna'\n",
      " 'Airway Heights' 'Alameda' 'Albion' 'Alderdale' 'Alderwood Manor' 'Aldie'\n",
      " 'Alexandria' 'Algona' 'Allyn' 'Almira' 'Amanda Park' 'Amboy' 'Anacortes'\n",
      " 'Anderson Island' 'Andrews Air Force Base' 'Ann Arbor' 'Apache Junction'\n",
      " 'Apple Valley' 'Appleton' 'Ariel' 'Arlington' 'Arnold' 'Artondale'\n",
      " 'Ashford' 'Asotin' 'Atherton' 'Atlanta' 'Auburn' 'Aurora' 'Austin'\n",
      " 'Bainbridge Island' 'Bangor Base' 'Baring' 'Battle Ground' 'Bay Center'\n",
      " 'Beale Afb' 'Beaux Arts' 'Beaver' 'Bedford' 'Belfair' 'Belle Chasse'\n",
      " 'Bellevue' 'Bellingham' 'Benicia' 'Benton City' 'Berkeley' 'Bethesda'\n",
      " 'Beverly' 'Bickleton' 'Bingen' 'Black Diamond' 'Blaine' 'Bluffdale'\n",
      " 'Boca Raton' 'Boise' 'Bonney Lake' 'Bothell' 'Bow' 'Braselton'\n",
      " 'Bremerton' 'Brewster' 'Bridgeport' 'Bridgeport Bar' 'Brier' 'Brinnon'\n",
      " 'Brooklyn' 'Brush Prairie' 'Buckley' 'Bucoda' 'Buena' 'Buena Park'\n",
      " 'Burbank' 'Burien' 'Burke' 'Burlington' 'Burr Ridge' 'Bz Corner' 'Calera'\n",
      " 'Camano Island' 'Camarillo' 'Camas' 'Cameron' 'Carbonado' 'Carlisle'\n",
      " 'Carlsbad' 'Carlton' 'Carnation' 'Carrollton' 'Carson' 'Cashmere'\n",
      " 'Castle Rock' 'Cathedral City' 'Cathlamet' 'Centerville' 'Centralia'\n",
      " 'Champaign' 'Chandler' 'Chantilly' 'Chapel Hill' 'Charleston Afb'\n",
      " 'Charlottesville' 'Chattaroy' 'Chehalis' 'Chelan' 'Chelan Falls' 'Cheney'\n",
      " 'Chesapeake' 'Chesapeake Beach' 'Chewelah' 'Cheyenne' 'Chicago'\n",
      " 'Chimacum' 'Chinook' 'Chula Vista' 'Cincinnati' 'Cinebar' 'Clallam Bay'\n",
      " 'Clarkston' 'Clayton' 'Cle Elum' 'Clearlake' 'Clinton' 'Clyde Hill'\n",
      " 'Colbert' 'Colfax' 'College Place' 'Colorado Springs' 'Colton' 'Columbia'\n",
      " 'Columbus' 'Colville' 'Conconully' 'Concrete' 'Connell' 'Conyers'\n",
      " 'Copalis Beach' 'Copalis Crossing' 'Corpus Christi' 'Cosmopolis' 'Cougar'\n",
      " 'Coulee City' 'Coulee Dam' 'Coupeville' 'Covington' 'Cowiche' 'Creston'\n",
      " 'Cupertino' 'Curlew' 'Curtis' 'Cusick' 'Custer' 'Dallesport' 'Danville'\n",
      " 'Darrington' 'Davenport' 'Davis' 'Dayton' 'Decatur' 'Deer Harbor'\n",
      " 'Deer Meadows' 'Deer Park' 'Deming' 'Derby' 'Des Moines' 'Dickinson'\n",
      " 'Dixie' 'Dover' 'Dryden' 'Dumfries' 'Dupont' 'Duvall' 'Eagle River'\n",
      " 'East Brunswick' 'East Wenatchee' 'Easton' 'Eastsound' 'Eatonville'\n",
      " 'Edgewater' 'Edgewood' 'Edmonds' 'Edwall' 'Edwards' 'Edwardsville'\n",
      " 'Egg Harbor Township' 'El Paso' 'Elbe' 'Electric City' 'Elizabethtown'\n",
      " 'Elk' 'Ellensburg' 'Ellicott City' 'Elma' 'Elmer City' 'Eltopia'\n",
      " 'Endicott' 'Englewood' 'Enid' 'Entiat' 'Enumclaw' 'Ephrata' 'Ethel'\n",
      " 'Evans' 'Everett' 'Everson' 'Ewa Beach' 'Fairchild Air Force Base'\n",
      " 'Fairfield' 'Fall City' 'Fallon' 'Falls Church' 'Fayetteville'\n",
      " 'Federal Way' 'Ferndale' 'Fife' 'Fircrest' 'Folsom' 'Ford' 'Forks'\n",
      " 'Fort Belvoir' 'Fort Benning' 'Fort Bragg' 'Fort George G Meade'\n",
      " 'Fort Irwin' 'Fort Knox' 'Fort Leavenworth' 'Fort Washington'\n",
      " 'Fort Wayne' 'Fort Worth' 'Fox Island' 'Fredericksburg' 'Freeland'\n",
      " 'Fremont' 'Fresno' 'Friday Harbor' 'Frisco' 'Gaithersburg' 'Gales Ferry'\n",
      " 'Gambrills' 'Gardena' 'Garfield' 'Gifford' 'Gig Harbor' 'Glacier'\n",
      " 'Glenoma' 'Glenwood' 'Gold Bar' 'Goldendale' 'Goodyear' 'Goshen' 'Graham'\n",
      " 'Grand Coulee' 'Grandview' 'Granger' 'Granite Falls' 'Grapeview'\n",
      " 'Grayland' 'Grays River' 'Green Bay' 'Greenacres' 'Greenbank'\n",
      " 'Greenfield Center' 'Groton' 'Gunpowder' 'Hamilton' 'Hanahan' 'Hanford'\n",
      " 'Hanover' 'Hanscom Afb' 'Hansville' 'Harrington' 'Harrison' 'Hartline'\n",
      " 'Hatton' 'Healdsburg' 'Henderson' 'Henrico' 'Herndon' 'Holden Village'\n",
      " 'Holloman Air Force Base' 'Holly Springs' 'Home' 'Honolulu' 'Hoodsport'\n",
      " 'Hopkins' 'Hoquiam' 'Houston' 'Hudson' 'Hughesville' 'Hunters'\n",
      " 'Hunts Point' 'Husum' 'Ilwaco' 'Inchelium' 'Incorporated' 'Index'\n",
      " 'Indianola' 'Ione' 'Irvine' 'Issaquah' 'Jacksonville' 'Jersey City'\n",
      " 'Joint Base Lewis Mcchord' 'Joint Base Mdl' 'Kailua' 'Kalama' 'Kapowsin'\n",
      " 'Kekaha' 'Kelso' 'Kenmore' 'Kennewick' 'Kent' 'Kettle Falls' 'Keyport'\n",
      " 'Kihei' 'Killeen' 'Kingston' 'Kirkland' 'Kittitas' 'Klickitat'\n",
      " 'La Center' 'La Conner' 'La Mesa' 'Lacey' 'Lacrosse' 'Lafayette'\n",
      " 'Lake Forest Park' 'Lake Stevens' 'Lake Tapps' 'Lakebay' 'Lakeview'\n",
      " 'Lakewood' 'Lamont' 'Lancaster' 'Langley' 'Lansing' 'Las Cruces'\n",
      " 'Las Vegas' 'Latah' 'Laughlin' 'Leander' 'Leavenworth' 'Lebam' 'Lemoore'\n",
      " 'Lexington Park' 'Liberty Lake' 'Libertyville' 'Lilliwaup' 'Lincoln'\n",
      " 'Lind' 'Lisle' 'Lithia' 'Little Elm' 'Little Rock' 'Lodi' 'Lompoc'\n",
      " 'Long Beach' 'Longbranch' 'Longview' 'Loon Lake' 'Lopez Is'\n",
      " 'Lopez Island' 'Los Altos' 'Los Angeles' 'Louisville' 'Lummi Island'\n",
      " 'Lyle' 'Lyman' 'Lynden' 'Lynnwood' 'Mabton' 'Madison' 'Malaga' 'Malden'\n",
      " 'Malott' 'Manassas' 'Mansfield' 'Manson' 'Maple Falls' 'Maple Valley'\n",
      " 'Marblemount' 'Maricopa' 'Marina' 'Marlin' 'Martha Lake' 'Martinez'\n",
      " 'Maryhill' 'Marysville' 'Mattawa' 'Mazama' 'Mc Lean' 'McCleary'\n",
      " 'Mccleary' 'Mead' 'Medical Lake' 'Medina' 'Melbourne' 'Menifee' 'Menlo'\n",
      " 'Mercer Island' 'Merrifield' 'Mesa' 'Metaline' 'Methow' 'Mica'\n",
      " 'Middletown' 'Midway City' 'Mill Creek' 'Milton' 'Mineral' 'Minneapolis'\n",
      " 'Mobile' 'Moclips' 'Monroe' 'Montclair' 'Monterey' 'Montesano'\n",
      " 'Montgomery' 'Monument' 'Moorpark' 'Morrisville' 'Morton' 'Moses Lake'\n",
      " 'Mossyrock' 'Mount Vernon' 'Mountain View' 'Mountlake Terrace' 'Moxee'\n",
      " 'Moyock' 'Mukilteo' 'Murdock' 'Mystic' 'Naches' 'Nahcotta' 'Napavine'\n",
      " 'Naples' 'Naselle' 'Neah Bay' 'Nespelem' 'New York' 'Newark' 'Newcastle'\n",
      " 'Newman Lake' 'Newport' 'Newport News' 'Nine Mile Falls' 'Nooksack'\n",
      " 'Nordland' 'Norfolk' 'Normandy Park' 'North Bend' 'North Bonneville'\n",
      " 'North Chesterfield' 'North Cove' 'North Hollywood' 'North Las Vegas'\n",
      " 'Northport' 'Northridge' 'O Fallon' 'Oak Harbor' 'Oakesdale' 'Oakville'\n",
      " 'Ocean Park' 'Ocean Shores' 'Oceanside' 'Odenton' 'Odessa' 'Ogdensburg'\n",
      " 'Okanogan' 'Okatie' 'Olalla' 'Old Lyme' 'Olga' 'Olympia' 'Omaha' 'Omak'\n",
      " 'Onalaska' 'Orcas' 'Orcas Is' 'Orient' 'Orondo' 'Oroville' 'Orting'\n",
      " 'Othello' 'Otis Orchards' 'Outlook' 'Oysterville' 'Pacific'\n",
      " 'Pacific Beach' 'Pacific Grove' 'Pacifica' 'Packwood' 'Palisades'\n",
      " 'Palo Alto' 'Palouse' 'Panama City' 'Parker' 'Parkland' 'Pasc' 'Pasco'\n",
      " 'Pateros' 'Paterson' 'Pe Ell' 'Pella' 'Pensacola' 'Peshastin'\n",
      " 'Philadelphia' 'Phoenix' 'Pike Road' 'Pittsburg' 'Pittsburgh'\n",
      " 'Platte City' 'Plymouth' 'Point Roberts' 'Pomeroy' 'Port Angeles'\n",
      " 'Port Gamble' 'Port Hadlock' 'Port Hueneme' 'Port Ludlow' 'Port Orchard'\n",
      " 'Port Townsend' 'Portland' 'Portsmouth' 'Post Falls' 'Potomac' 'Poulsbo'\n",
      " 'Prairie Ridge' 'Prattville' 'Preston' 'Princeton' 'Pros' 'Prosser'\n",
      " 'Pullman' 'Puyallup' 'Quilcene' 'Quinault' 'Quincy' 'Raeford' 'Rainier'\n",
      " 'Raleigh' 'Randle' 'Rathdrum' 'Ravensdale' 'Raymond' 'Reardan' 'Redmond'\n",
      " 'Redwood City' 'Reno' 'Renton' 'Republic' 'Reseda' 'Rice' 'Rich'\n",
      " 'Richland' 'Ridgecrest' 'Ridgefield' 'Rineyville' 'Ritzville' 'Riverside'\n",
      " 'Riverview' 'Rochester' 'Rock Island' 'Rockford' 'Rockport' 'Ronald'\n",
      " 'Roosevelt' 'Rosalia' 'Rosburg' 'Roseville' 'Roslyn' 'Roy' 'Royal City'\n",
      " 'Ruston' 'Ryderwood' 'Sacramento' 'Saint Jacob' 'Saint Louis'\n",
      " 'Saint Robert' 'Salem' 'Salkum' 'Sammamish' 'San Angelo' 'San Antonio'\n",
      " 'San Clemente' 'San Diego' 'San Jose' 'San Juan Is' 'San Rafael'\n",
      " 'Sanford' 'Santa Clara' 'Santa Cruz' 'Santa Rosa' 'Sarasota'\n",
      " 'Saratoga Springs' 'Satsop' 'Sausalito' 'Scottsdale' 'Seabeck' 'Seaside'\n",
      " 'Seatac' 'Seattle' 'Seaview' 'Sedro Woolley' 'Sedro-Woolley' 'Sekiu'\n",
      " 'Selah' 'Sequim' 'Seven Bays' 'Shaw Island' 'Shelton' 'Sherwood'\n",
      " 'Shoreline' 'Shreveport' 'Silver Creek' 'Silver Lake' 'Silver Spring'\n",
      " 'Silverdale' 'Silverlake' 'Skamokawa' 'Skokie' 'Skykomish' 'Smith Creek'\n",
      " 'Smiths Station' 'Snohomish' 'Snoqualmie' 'Snoqualmie Pass' 'Snowden'\n",
      " 'Soap Lake' 'South Bend' 'South Cle Elum' 'South Hill' 'South Jordan'\n",
      " 'South Lake Tahoe' 'South Prairie' 'South Salt Lake' 'Southlake'\n",
      " 'Spanaway' 'Spangle' 'Sparks' 'Spokane' 'Spokane Valley' 'Sprague'\n",
      " 'Spring Lake' 'Springdale' 'Springfield' 'St John' 'Stafford' 'Stanwood'\n",
      " 'Startup' 'Steilacoom' 'Stevenson' 'Stratford' 'Suffolk' 'Sultan' 'Sumas'\n",
      " 'Summerville' 'Sumner' 'Sunnyside' 'Sunnyvale' 'Suquamish' 'Surfside'\n",
      " 'Tacoma' 'Taholah' 'Tahuya' 'Tampa' 'Tekoa' 'Tempe' 'Tenino' 'Thorp'\n",
      " 'Tieton' 'Timnath' 'Toano' 'Tokeland' 'Toledo' 'Tonasket' 'Tooele'\n",
      " 'Topanga' 'Toppenish' 'Torrance' 'Touchet' 'Toutle' 'Townsend'\n",
      " 'Trabuco Canyon' 'Travis Afb' 'Trout Lake' 'Tucson' 'Tukwila' 'Tulalip'\n",
      " 'Tumtum' 'Tumwater' 'Twisp' 'Underwood' 'Union' 'Union Gap' 'Uniontown'\n",
      " 'University Place' 'Upper Marlboro' 'Usk' 'Vacaville' 'Vader' 'Valley'\n",
      " 'Valleyford' 'Vancouver' 'Vashon' 'Vaughn' 'Ventura' 'Veradale' 'Vienna'\n",
      " 'Virginia Beach' 'Vista' 'Wahkiacus' 'Waitsburg' 'Waldorf' 'Waldron'\n",
      " 'Walla Walla' 'Walla Walla Co' 'Wapato' 'Warden' 'Warner Robins'\n",
      " 'Washington' 'Washougal' 'Washtucna' 'Waterford' 'Watertown' 'Waterville'\n",
      " 'Waverly' 'Waynesville' 'Wellpinit' 'Wenatchee' 'West Chicago'\n",
      " 'West Richland' 'Westlake' 'Westminster' 'Westport' 'White Salmon'\n",
      " 'White Swan' 'Wichita Falls' 'Wilbur' 'Wildomar' 'Wilkeson' 'Willapa'\n",
      " 'Williamsburg' 'Winlock' 'Winter Park' 'Winterville' 'Winthrop' 'Wishram'\n",
      " 'Woodbridge' 'Woodinville' 'Woodland' 'Woodway' 'Worley' 'Yacolt'\n",
      " 'Yakima' 'Yarrow Point' 'Yelm' 'Yorktown' 'Zillah' nan]\n"
     ]
    }
   ],
   "source": [
    "\n",
    "print(len(rawData['City'].unique()))\n",
    "print(rawData.sort_values(by='City')['City'].unique())"
   ]
  },
  {
   "cell_type": "markdown",
   "metadata": {},
   "source": [
    "### Step 5: Univariate Analysis\n",
    "- **Summary Statistics**\n",
    "- **Visualize Distributions:** histograms, box plots, bar charts"
   ]
  },
  {
   "cell_type": "markdown",
   "metadata": {},
   "source": [
    "### Step 6: Bivariate Analysis\n",
    "- **Correlation Analysis**: (e.g., Pearson, Spearman)\n",
    "- **Cross-tabulation**\n",
    "- **Visualize Relationships:** scatter plots, box plots, heatmaps"
   ]
  },
  {
   "cell_type": "markdown",
   "metadata": {},
   "source": [
    "### Step 7: Multivariate Analysis\n",
    "- **Pairplot/Scatterplot Matrix**\n",
    "- **Multivariate Statistics**\n",
    "- **Advanced Visualizations**"
   ]
  },
  {
   "cell_type": "markdown",
   "metadata": {},
   "source": [
    "### Step 8: Feature Engineering\n",
    "- **Create New Features**\n",
    "- **Feature Transformation**\n",
    "- **Encoding Categorical Variables**"
   ]
  },
  {
   "cell_type": "markdown",
   "metadata": {},
   "source": [
    "### Step 9: Handle Imbalanced Data (If Applicable)\n",
    "- **Resampling Techniques**: Use oversampling, under-sampling, or SMOTE if the target variable is imbalanced"
   ]
  },
  {
   "cell_type": "markdown",
   "metadata": {},
   "source": [
    "### Step 10: Analyze and Validate Assumptions\n",
    "- **Check for Multicollinearity**: Use VIF (Variance Inflation Factor) to detect multicollinearity among predictors.\n",
    "- **Normality Testing**: Test if numerical data follows a normal distribution (e.g., using the Shapiro-Wilk test).\n",
    "- **Homoscedasticity**: Check the equality of variance across groups"
   ]
  },
  {
   "cell_type": "markdown",
   "metadata": {},
   "source": [
    "### Step 11: Preliminary Insights and Hypotheses\n",
    "- **Identify Key Findings**\n",
    "- **Generate Hypotheses**"
   ]
  },
  {
   "cell_type": "markdown",
   "metadata": {},
   "source": [
    "### Step 12: Document and Communicate Findings\n",
    "- **Create Visual Summaries**\n",
    "- **Write a Summary Report**"
   ]
  },
  {
   "cell_type": "markdown",
   "metadata": {},
   "source": [
    "### Step 13: Next Steps\n",
    "- **Plan for Further Analysis**"
   ]
  },
  {
   "cell_type": "markdown",
   "metadata": {},
   "source": [
    "### Step 14: Review and Reiterate\n",
    "- **Review EDA**\n",
    "- **Iterate as Needed**"
   ]
  }
 ],
 "metadata": {
  "kernelspec": {
   "display_name": "base",
   "language": "python",
   "name": "python3"
  },
  "language_info": {
   "codemirror_mode": {
    "name": "ipython",
    "version": 3
   },
   "file_extension": ".py",
   "mimetype": "text/x-python",
   "name": "python",
   "nbconvert_exporter": "python",
   "pygments_lexer": "ipython3",
   "version": "3.11.5"
  }
 },
 "nbformat": 4,
 "nbformat_minor": 2
}
