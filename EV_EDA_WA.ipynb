{
 "cells": [
  {
   "cell_type": "markdown",
   "metadata": {},
   "source": [
    "# Exploratory Data Analysis of Electric Vehicle Population Data\n",
    "\n",
    "- **Course:** CS660/71425 Mathematical Foundations of Analytics\n",
    "- **Instructor:** Prof. Sarbanes\n",
    "- **Group-1:** Will Torres, Mike Griffin, Watson Blair, Syed Abdul Mubashir, Mohammed Abdul Munaf\n",
    "- **Semester:** Fall 2024\n",
    "- **Project #:** 1\n",
    "- **Due Date:** 07-Oct-2024"
   ]
  },
  {
   "cell_type": "markdown",
   "metadata": {},
   "source": [
    "## Project Description\n",
    "Exploratory Data Analysis (EDA) is essential for understanding, cleaning, and preparing data for further analysis in data science projects. This project focuses on analyzing the Electric Vehicle (EV) population dataset from Washington State, USA.\n"
   ]
  },
  {
   "cell_type": "markdown",
   "metadata": {},
   "source": [
    "## Questions to be Answered\n",
    "1. Which car manufacturers are most commonly used for EVs in Washington?\n",
    "2. What are the highest and lowest electric ranges in this dataset, and which car makers and models do they correspond to?\n",
    "3. Is the maximum electric range value unique? If not, which cars share this range?\n",
    "4. Is the minimum electric range value unique? If not, which cars share this range?\n",
    "5. How does the electric range vary between car makers and between models?\n",
    "6. Which are the top 5 cities adopting EVs?\n",
    "7. How does the EV adoption rate vary among car makers over the years?\n",
    "8. Is there a correlation between the electric range and the city of an EV?\n",
    "9. Which county has the greatest variety of EV car models?"
   ]
  },
  {
   "cell_type": "markdown",
   "metadata": {},
   "source": [
    "## EDA"
   ]
  },
  {
   "cell_type": "markdown",
   "metadata": {},
   "source": [
    "### Step 1: Understand the Dataset Context\n",
    "- **Objective Clarification**\n",
    "- **Data Source Identification**"
   ]
  },
  {
   "cell_type": "markdown",
   "metadata": {},
   "source": [
    "### Step 2: Import Libraries and Load Data\n",
    "- **Import Necessary Libraries:** `pandas`, `numpy`, `matplotlib`, `seaborn`\n",
    "- **Load the Dataset:** `EV_Population_WA_Data.csv`"
   ]
  },
  {
   "cell_type": "code",
   "execution_count": 2,
   "metadata": {},
   "outputs": [],
   "source": [
    "\"\"\"Imports\"\"\"\n",
    "import pandas as pd\n",
    "\n",
    "\n",
    "\"\"\"Load Data\"\"\"\n",
    "rawData = pd.read_csv('./data/EV_Population_WA_Data.csv')"
   ]
  },
  {
   "cell_type": "markdown",
   "metadata": {},
   "source": [
    "### Step 3: Initial Data Inspection\n",
    "- **View Data Structure:** `.head()`, `.info()`, `.describe()`\n",
    "- **Check Dimensions:** `.shape()`\n",
    "- **Identify Missing Values:** `.isnull().sum()`"
   ]
  },
  {
   "cell_type": "markdown",
   "metadata": {},
   "source": [
    "### Step 4: Data Cleaning\n",
    "- **Handle Missing/Incomplete Data**\n",
    "  - Range Data\n",
    "- **Handle Outliers**\n",
    "- **Correct Data Types**\n",
    "  - transform categorical data into numeric values for use in correlation operations \n",
    "  - \n",
    "- **Handle Duplicates**"
   ]
  },
  {
   "cell_type": "code",
   "execution_count": 4,
   "metadata": {},
   "outputs": [],
   "source": [
    "from utils import calculateRange, calculateMSRP, convertEligibility\n",
    "\n",
    "cleanData = rawData.copy(deep=True)\n",
    "\n",
    "cleanData = calculateRange(cleanData)\n",
    "\n",
    "cleanData = calculateMSRP(cleanData) # Corrects aprox 10,000 records\n",
    "\n",
    "cleanData = convertEligibility(cleanData)\n",
    "\n"
   ]
  },
  {
   "cell_type": "code",
   "execution_count": 18,
   "metadata": {},
   "outputs": [
    {
     "name": "stdout",
     "output_type": "stream",
     "text": [
      "['Clean Alternative Fuel Vehicle Eligible'\n",
      " 'Eligibility unknown as battery range has not been researched'\n",
      " 'Not eligible due to low battery range']\n"
     ]
    }
   ],
   "source": [
    "print(cleanData['Clean Alternative Fuel Vehicle (CAFV) Eligibility'].unique())\n",
    "\n"
   ]
  },
  {
   "cell_type": "markdown",
   "metadata": {},
   "source": [
    "### Step 5: Univariate Analysis\n",
    "- **Summary Statistics**\n",
    "- **Visualize Distributions:** histograms, box plots, bar charts"
   ]
  },
  {
   "cell_type": "markdown",
   "metadata": {},
   "source": [
    "### Step 6: Bivariate Analysis\n",
    "- **Correlation Analysis**: (e.g., Pearson, Spearman)\n",
    "- **Cross-tabulation**\n",
    "- **Visualize Relationships:** scatter plots, box plots, heatmaps"
   ]
  },
  {
   "cell_type": "markdown",
   "metadata": {},
   "source": [
    "### Step 7: Multivariate Analysis\n",
    "- **Pairplot/Scatterplot Matrix**\n",
    "- **Multivariate Statistics**\n",
    "- **Advanced Visualizations**"
   ]
  },
  {
   "cell_type": "markdown",
   "metadata": {},
   "source": [
    "### Step 8: Feature Engineering\n",
    "- **Create New Features**\n",
    "- **Feature Transformation**\n",
    "- **Encoding Categorical Variables**"
   ]
  },
  {
   "cell_type": "markdown",
   "metadata": {},
   "source": [
    "### Step 9: Handle Imbalanced Data (If Applicable)\n",
    "- **Resampling Techniques**: Use oversampling, under-sampling, or SMOTE if the target variable is imbalanced"
   ]
  },
  {
   "cell_type": "markdown",
   "metadata": {},
   "source": [
    "### Step 10: Analyze and Validate Assumptions\n",
    "- **Check for Multicollinearity**: Use VIF (Variance Inflation Factor) to detect multicollinearity among predictors.\n",
    "- **Normality Testing**: Test if numerical data follows a normal distribution (e.g., using the Shapiro-Wilk test).\n",
    "- **Homoscedasticity**: Check the equality of variance across groups"
   ]
  },
  {
   "cell_type": "markdown",
   "metadata": {},
   "source": [
    "### Step 11: Preliminary Insights and Hypotheses\n",
    "- **Identify Key Findings**\n",
    "- **Generate Hypotheses**"
   ]
  },
  {
   "cell_type": "markdown",
   "metadata": {},
   "source": [
    "### Step 12: Document and Communicate Findings\n",
    "- **Create Visual Summaries**\n",
    "- **Write a Summary Report**"
   ]
  },
  {
   "cell_type": "markdown",
   "metadata": {},
   "source": [
    "### Step 13: Next Steps\n",
    "- **Plan for Further Analysis**"
   ]
  },
  {
   "cell_type": "markdown",
   "metadata": {},
   "source": [
    "### Step 14: Review and Reiterate\n",
    "- **Review EDA**\n",
    "- **Iterate as Needed**"
   ]
  }
 ],
 "metadata": {
  "kernelspec": {
   "display_name": "base",
   "language": "python",
   "name": "python3"
  },
  "language_info": {
   "codemirror_mode": {
    "name": "ipython",
    "version": 3
   },
   "file_extension": ".py",
   "mimetype": "text/x-python",
   "name": "python",
   "nbconvert_exporter": "python",
   "pygments_lexer": "ipython3",
   "version": "3.11.5"
  }
 },
 "nbformat": 4,
 "nbformat_minor": 2
}
