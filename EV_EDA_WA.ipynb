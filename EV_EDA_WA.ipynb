{
 "cells": [
  {
   "cell_type": "markdown",
   "metadata": {},
   "source": [
    "# Exploratory Data Analysis of Electric Vehicle Population Data\n",
    "\n",
    "- **Course:** CS660/71425 Mathematical Foundations of Analytics\n",
    "- **Instructor:** Prof. Sarbanes\n",
    "- **Group-1:** Will Torres, Mike Griffin, Watson Blair, Syed Abdul Mubashir, Mohammed Abdul Munaf\n",
    "- **Semester:** Fall 2024\n",
    "- **Project #:** 1\n",
    "- **Due Date:** 07-Oct-2024"
   ]
  },
  {
   "cell_type": "markdown",
   "metadata": {},
   "source": [
    "## Project Description\n",
    "Exploratory Data Analysis (EDA) is essential for understanding, cleaning, and preparing data for further analysis in data science projects. This project focuses on analyzing the Electric Vehicle (EV) population dataset from Washington State, USA.\n"
   ]
  },
  {
   "cell_type": "markdown",
   "metadata": {},
   "source": [
    "## Questions to be Answered\n",
    "1. Which car manufacturers are most commonly used for EVs in Washington?\n",
    "2. What are the highest and lowest electric ranges in this dataset, and which car makers and models do they correspond to?\n",
    "3. Is the maximum electric range value unique? If not, which cars share this range?\n",
    "4. Is the minimum electric range value unique? If not, which cars share this range?\n",
    "5. How does the electric range vary between car makers and between models?\n",
    "6. Which are the top 5 cities adopting EVs?\n",
    "7. How does the EV adoption rate vary among car makers over the years?\n",
    "8. Is there a correlation between the electric range and the city of an EV?\n",
    "9. Which county has the greatest variety of EV car models?"
   ]
  },
  {
   "cell_type": "markdown",
   "metadata": {},
   "source": [
    "## EDA"
   ]
  },
  {
   "cell_type": "markdown",
   "metadata": {},
   "source": [
    "### Step 1: Understand the Dataset Context\n",
    "\n",
    "_Washington State Department of Licensing_'s dataset tracks **Battery Electric Vehicles** (BEVs) and **Plug-in Hybrid Electric Vehicles** (PHEVs) registered in Washington state. This dataset is updated monthly and offers insights into the electric vehicle population, categorized by county, postal code, and vehicle characteristics.\n",
    "\n",
    "**Key Dataset Details**:\n",
    "- Data Source: Washington State Department of Licensing.\n",
    "- Objective: To provide a comprehensive overview of electric vehicles registered in Washington, segmented by various geographical and vehicle-specific metrics. It helps track the adoption of electric vehicles across different regions.\n",
    "- Metadata: The dataset is updated regularly (most recently on September 16, 2024) and covers registered electric vehicles as of August 31, 2024.  \n",
    "\n",
    "**Notable Fields**:\n",
    "- VIN (1-10): The first 10 characters of the Vehicle Identification Number.\n",
    "- County/**City**/State/Postal Code: Geographic data identifying where the vehicle is registered.\n",
    "- **Model Year**, **Make**, **Model**: Vehicle characteristics.\n",
    "- Electric Vehicle Type: Whether the vehicle is a BEV or PHEV.\n",
    "- **Electric Range**: The distance a vehicle can travel on electric charge.\n",
    "- Legislative District: The political district in which the vehicle owner resides.  \n",
    "\n",
    "**Objective Clarification**:\n",
    "- The goal of using this data could be to analyze electric vehicle adoption trends in Washington, identify regions with the highest EV adoption, or track specific vehicle models."
   ]
  },
  {
   "cell_type": "markdown",
   "metadata": {},
   "source": [
    "### Step 2: Import Libraries and Load Data\n",
    "- **Import Necessary Libraries:** `pandas`, `numpy`, `matplotlib`, `seaborn`\n",
    "- **Load the Dataset:** `EV_Population_WA_Data.csv`"
   ]
  },
  {
   "cell_type": "code",
   "execution_count": 1,
   "metadata": {},
   "outputs": [],
   "source": [
    "# Import necessary libraries\n",
    "import pandas as pd\n",
    "import numpy as np\n",
    "import matplotlib.pyplot as plt\n",
    "import seaborn as sns\n",
    "%matplotlib inline"
   ]
  },
  {
   "cell_type": "code",
   "execution_count": 2,
   "metadata": {},
   "outputs": [],
   "source": [
    "# Load the dataset\n",
    "df = pd.read_csv('data/EV_Population_WA_Data.csv')\n",
    "\n",
    "\n",
    "\"\"\"Load Data\"\"\"\n",
    "rawData = pd.read_csv('./data/EV_Population_WA_Data.csv')"
   ]
  },
  {
   "cell_type": "markdown",
   "metadata": {},
   "source": [
    "### Step 3: Initial Data Inspection\n",
    "- **View Data Structure:** `.head()`, `.info()`, `.describe()`\n",
    "- **Check Dimensions:** `.shape()`\n",
    "- **Identify Missing Values:** `.isnull().sum()`"
   ]
  },
  {
   "cell_type": "code",
   "execution_count": null,
   "metadata": {},
   "outputs": [],
   "source": [
    "df.head(10)"
   ]
  },
  {
   "cell_type": "code",
   "execution_count": null,
   "metadata": {},
   "outputs": [],
   "source": [
    "\"\"\"\n",
    "from the non-null counts we can identify the presence of some outliers in our data.\n",
    "Further investigation reveals at 4 of these Vehicles appear to be in Canada (their State info designates BC)\n",
    "An additional 4 Vehicles are missing geolocation data,\n",
    "\n",
    "\"\"\"\n",
    "df.info()"
   ]
  },
  {
   "cell_type": "code",
   "execution_count": null,
   "metadata": {},
   "outputs": [],
   "source": [
    "df.describe()"
   ]
  },
  {
   "cell_type": "code",
   "execution_count": null,
   "metadata": {},
   "outputs": [],
   "source": [
    "print(f\"Dataset Shape: {df.shape[0]} rows, {df.shape[1]} cols\")"
   ]
  },
  {
   "cell_type": "code",
   "execution_count": null,
   "metadata": {},
   "outputs": [],
   "source": [
    "df.isnull().sum().sort_values(ascending = False)"
   ]
  },
  {
   "cell_type": "markdown",
   "metadata": {},
   "source": [
    "### Step 4: Data Cleaning\n",
    "- **Handle Missing/Incomplete Data**\n",
    "  - Range Data\n",
    "- **Handle Outliers**\n",
    "- **Correct Data Types**\n",
    "  - transform categorical data into numeric values for use in correlation operations \n",
    "  - \n",
    "- **Handle Duplicates**"
   ]
  },
  {
   "cell_type": "code",
   "execution_count": 15,
   "metadata": {},
   "outputs": [],
   "source": [
    "from utils import calculateRange, calculateMSRP, convertEligibility, purgeInternationalOutliers, convertPostalCode\n",
    "# , imputeLocationData\n",
    "rawData = df\n",
    "# Note: The questions pertain to the following columns:\n",
    "# Model Year, Model, Make, Electric Range, City, County\n",
    "# Focusing our data cleaning, prep, analysis, and feature engineering to these cols might be beneficial.\n",
    "\n",
    "# Other cleaning:\n",
    "# - Standardizing Electric Utility, Dropping Duplicates + Missing Vals, imputing values in ER (and MSRP), etc.\n",
    "\n",
    "\n",
    "cleanData = rawData.copy(deep=True)\n",
    "\n",
    "cleanData = calculateRange(cleanData)\n",
    "\n",
    "cleanData = calculateMSRP(cleanData) # Corrects aprox 10,000 records\n",
    "\n",
    "cleanData = convertEligibility(cleanData)\n",
    "\n",
    "cleanData = purgeInternationalOutliers(cleanData)\n",
    "\n",
    "cleanData = convertPostalCode(cleanData)\n",
    "\n",
    "cleanData = imputeLocationData(cleanData)\n",
    "\n"
   ]
  },
  {
   "cell_type": "code",
   "execution_count": null,
   "metadata": {},
   "outputs": [],
   "source": [
    "# print(cleanData.head())\n",
    "\n",
    "# print(rawData[rawData['Vehicle Location'].isna() & rawData['State'].isin(['WA'])])\n",
    "cleanData.info()"
   ]
  },
  {
   "cell_type": "markdown",
   "metadata": {},
   "source": [
    "### Step 5: Univariate Analysis\n",
    "- **Summary Statistics**\n",
    "- **Visualize Distributions:** histograms, box plots, bar charts"
   ]
  },
  {
   "cell_type": "code",
   "execution_count": null,
   "metadata": {},
   "outputs": [],
   "source": [
    "# Summary Statistics for categorical columns\n",
    "categorical_summary = df.describe(include=['object'])\n",
    "categorical_summary"
   ]
  },
  {
   "cell_type": "code",
   "execution_count": null,
   "metadata": {},
   "outputs": [],
   "source": [
    "# Visualizing distributions for numerical variables\n",
    "num_cols = ['Electric Range', 'Base MSRP', 'Model Year']\n",
    "\n",
    "for col in num_cols:\n",
    "    plt.figure(figsize=(8, 6))\n",
    "    sns.histplot(df[col], kde=True, bins=20)\n",
    "    plt.title(f'Histogram for {col}')\n",
    "    plt.show()\n",
    "\n",
    "# Box plots for numerical variables\n",
    "for col in num_cols:\n",
    "    plt.figure(figsize=(8, 6))\n",
    "    sns.boxplot(x=df[col])\n",
    "    plt.title(f'Box Plot for {col}')\n",
    "    plt.show()"
   ]
  },
  {
   "cell_type": "code",
   "execution_count": null,
   "metadata": {},
   "outputs": [],
   "source": [
    "# Top 5 Cities with Most Electric Vehicles\n",
    "def plot_top_5_cities(df):\n",
    "    top_5_cities = df['City'].value_counts().nlargest(5)\n",
    "    plt.figure(figsize=(10, 6))\n",
    "    sns.barplot(x=top_5_cities.values, y=top_5_cities.index, palette=\"viridis\")\n",
    "    plt.title('Top 5 Cities with Most Electric Vehicles')\n",
    "    plt.xlabel('Number of Electric Vehicles')\n",
    "    plt.ylabel('City')\n",
    "    plt.show()\n",
    "\n",
    "# Electric Vehicle Types Distribution by State (for Washington 'WA')\n",
    "def plot_ev_type_by_state(df, state='WA'):\n",
    "    plt.figure(figsize=(12, 6))\n",
    "    sns.countplot(data=df[df.State == state], x='State', hue='Electric Vehicle Type', palette=\"viridis\")\n",
    "    plt.title(f'Electric Vehicle Types Distribution in {state}')\n",
    "    plt.xlabel('State')\n",
    "    plt.ylabel('Count of Electric Vehicles')\n",
    "    plt.xticks(rotation=90)\n",
    "    plt.legend(title='Electric Vehicle Type')\n",
    "    plt.show()\n",
    "\n",
    "# Top 10 and Bottom 10 Makes and Models Subplots\n",
    "def plot_top_bottom_makes_models(df):\n",
    "    # Data preparation for top and bottom makes and models\n",
    "    top_10_makes = df['Make'].value_counts().nlargest(10)\n",
    "    bottom_10_makes = df['Make'].value_counts().nsmallest(10)\n",
    "    top_10_models = df['Model'].value_counts().nlargest(10)\n",
    "    bottom_10_models = df['Model'].value_counts().nsmallest(10)\n",
    "\n",
    "    # Create subplots: 2 rows and 2 columns\n",
    "    fig, axes = plt.subplots(2, 2, figsize=(14, 12))\n",
    "\n",
    "    # Top 10 Makes\n",
    "    sns.barplot(x=top_10_makes.values, y=top_10_makes.index, ax=axes[0, 0], palette=\"viridis\")\n",
    "    axes[0, 0].set_title('Top 10 Makes of Electric Vehicles')\n",
    "    axes[0, 0].set_xlabel('Number of Electric Vehicles')\n",
    "    axes[0, 0].set_ylabel('Make')\n",
    "\n",
    "    # Bottom 10 Makes\n",
    "    sns.barplot(x=bottom_10_makes.values, y=bottom_10_makes.index, ax=axes[0, 1], palette=\"viridis\")\n",
    "    axes[0, 1].set_title('Bottom 10 Makes of Electric Vehicles')\n",
    "    axes[0, 1].set_xlabel('Number of Electric Vehicles')\n",
    "    axes[0, 1].set_ylabel('Make')\n",
    "\n",
    "    # Top 10 Models\n",
    "    sns.barplot(x=top_10_models.values, y=top_10_models.index, ax=axes[1, 0], palette=\"viridis\")\n",
    "    axes[1, 0].set_title('Top 10 Electric Vehicle Models')\n",
    "    axes[1, 0].set_xlabel('Number of Electric Vehicles')\n",
    "    axes[1, 0].set_ylabel('Model')\n",
    "\n",
    "    # Bottom 10 Models\n",
    "    sns.barplot(x=bottom_10_models.values, y=bottom_10_models.index, ax=axes[1, 1], palette=\"viridis\")\n",
    "    axes[1, 1].set_title('Bottom 10 Electric Vehicle Models')\n",
    "    axes[1, 1].set_xlabel('Number of Electric Vehicles')\n",
    "    axes[1, 1].set_ylabel('Model')\n",
    "\n",
    "    # Adjust layout to prevent overlap\n",
    "    plt.tight_layout()\n",
    "    plt.show()\n",
    "\n",
    "# Call functions with df\n",
    "plot_top_5_cities(df)\n",
    "plot_ev_type_by_state(df, state='WA')\n",
    "plot_top_bottom_makes_models(df)"
   ]
  },
  {
   "cell_type": "markdown",
   "metadata": {},
   "source": [
    "### Step 6: Bivariate Analysis\n",
    "- **Correlation Analysis**: (e.g., Pearson, Spearman)\n",
    "- **Cross-tabulation**\n",
    "- **Visualize Relationships:** scatter plots, box plots, heatmaps"
   ]
  },
  {
   "cell_type": "code",
   "execution_count": null,
   "metadata": {},
   "outputs": [],
   "source": [
    "# Select only numeric columns for correlation analysis\n",
    "numeric_cols = df.select_dtypes(include=[np.number])\n",
    "\n",
    "# Pearson Correlation Matrix\n",
    "pearson_corr = numeric_cols.corr(method='pearson')\n",
    "\n",
    "# Spearman Correlation Matrix\n",
    "spearman_corr = numeric_cols.corr(method='spearman')\n",
    "\n",
    "# Visualize Pearson Correlation Matrix using a heatmap\n",
    "plt.figure(figsize=(10, 8))\n",
    "sns.heatmap(pearson_corr, annot=True, cmap='coolwarm')\n",
    "plt.title('Pearson Correlation Matrix')\n",
    "plt.show()\n",
    "\n",
    "# Visualize Spearman Correlation Matrix using a heatmap\n",
    "plt.figure(figsize=(10, 8))\n",
    "sns.heatmap(spearman_corr, annot=True, cmap='coolwarm')\n",
    "plt.title('Spearman Correlation Matrix')\n",
    "plt.show()\n",
    "\n",
    "correlation_matrix = df[['Electric Range', 'Base MSRP', 'Model Year']].corr(method='pearson')\n",
    "\n",
    "# Heatmap for correlations\n",
    "sns.heatmap(correlation_matrix, annot=True)\n",
    "plt.title('Correlation Matrix')\n",
    "plt.show()\n",
    "\n",
    "# Cross-tabulation between Electric Vehicle Type and Clean Alternative Fuel Vehicle (CAFV) Eligibility\n",
    "crosstab_result = pd.crosstab(df['Electric Vehicle Type'], df['Clean Alternative Fuel Vehicle (CAFV) Eligibility'])\n",
    "\n",
    "# Visualize cross-tabulation using a heatmap\n",
    "plt.figure(figsize=(8, 6))\n",
    "sns.heatmap(crosstab_result, annot=True, cmap='Blues')\n",
    "plt.title('Cross-tabulation between Electric Vehicle Type and CAFV Eligibility')\n",
    "plt.show()\n",
    "\n",
    "# Scatter plot between Electric Range and Base MSRP\n",
    "sns.scatterplot(x='Electric Range', y='Base MSRP', data=df)\n",
    "plt.title('Electric Range vs. Base MSRP')\n",
    "plt.show()\n",
    "\n",
    "# Scatter plot ER and Model Year\n",
    "plt.figure(figsize=(10, 6))\n",
    "sns.scatterplot(data=df, x='Model Year', y='Electric Range', hue='Make', style='Make')\n",
    "plt.title('Scatter Plot of Electric Range vs Model Year')\n",
    "plt.xlabel('Model Year')\n",
    "plt.ylabel('Electric Range')\n",
    "plt.legend(title='Make', bbox_to_anchor=(1.05, 1), loc='upper left')\n",
    "plt.show()\n",
    "\n",
    "# Boxplot of Electric Range across Makes\n",
    "sns.boxplot(x='Make', y='Electric Range', data=df)\n",
    "plt.xticks(rotation=90)\n",
    "plt.title('Electric Range by Car Maker')\n",
    "plt.show()\n"
   ]
  },
  {
   "cell_type": "markdown",
   "metadata": {},
   "source": [
    "### Step 7: Multivariate Analysis\n",
    "- **Pairplot/Scatterplot Matrix**\n",
    "- **Multivariate Statistics**\n",
    "- **Advanced Visualizations**"
   ]
  },
  {
   "cell_type": "code",
   "execution_count": null,
   "metadata": {},
   "outputs": [],
   "source": [
    "sns.pairplot(df, hue='Make')\n",
    "plt.title('Pair Plot of Electric Vehicle Data')\n",
    "plt.show()"
   ]
  },
  {
   "cell_type": "code",
   "execution_count": null,
   "metadata": {},
   "outputs": [],
   "source": [
    "stacked_data = df.groupby(['Model Year', 'Make']).size().unstack()\n",
    "stacked_data.plot(kind='bar', stacked=True, figsize=(12, 6))\n",
    "plt.title('Number of EVs by Make and Model Year')\n",
    "plt.xlabel('Model Year')\n",
    "plt.ylabel('Number of EVs')\n",
    "plt.legend(title='Make', bbox_to_anchor=(1.05, 1), loc='upper left')\n",
    "plt.show()"
   ]
  },
  {
   "cell_type": "markdown",
   "metadata": {},
   "source": [
    "### Step 8: Feature Engineering\n",
    "- **Create New Features**\n",
    "- **Feature Transformation**\n",
    "- **Encoding Categorical Variables**\n",
    "\n",
    "Suggestion for New Feature:\n",
    "- Average ER on the City, County, Make/Model level\n",
    "- Age of Vehicle\n",
    "- Create a new feature that combines Model Year and Make to see if certain manufacturers are more popular in specific years.\n",
    "- Create a feature that combines City and Make to see which manufacturers are dominant in specific cities.\n",
    "- Range Category:\n",
    "    - Create categorical bins for Electric Range to identify different range segments (e.g., Low, Medium, High).\n",
    "    - Normalized Electric Range: Scale the electric range to a 0-1 range using Min-Max normalization."
   ]
  },
  {
   "cell_type": "markdown",
   "metadata": {},
   "source": [
    "### Step 9: Handle Imbalanced Data (If Applicable)\n",
    "- **Resampling Techniques**: Use oversampling, under-sampling, or SMOTE if the target variable is imbalanced"
   ]
  },
  {
   "cell_type": "markdown",
   "metadata": {},
   "source": [
    "### Step 10: Analyze and Validate Assumptions\n",
    "- **Check for Multicollinearity**: Use VIF (Variance Inflation Factor) to detect multicollinearity among predictors.\n",
    "- **Normality Testing**: Test if numerical data follows a normal distribution (e.g., using the Shapiro-Wilk test).\n",
    "- **Homoscedasticity**: Check the equality of variance across groups"
   ]
  },
  {
   "cell_type": "markdown",
   "metadata": {},
   "source": [
    "### Step 11: Preliminary Insights and Hypotheses\n",
    "- **Identify Key Findings**\n",
    "- **Generate Hypotheses**"
   ]
  },
  {
   "cell_type": "code",
   "execution_count": null,
   "metadata": {},
   "outputs": [],
   "source": [
    "### 1. **Most Common Car Manufacturers for EVs in Washington**:\n",
    "#   - Use `value_counts()` on the **Make** column to find the most frequent car manufacturers.\n",
    "df['Make'].value_counts().head(10)\n",
    "\n",
    "### 2. **Highest and Lowest Electric Ranges and Their Car Makers/Models**:\n",
    "#   - Find the maximum and minimum values of the **Electric Range** and identify the corresponding car models.\n",
    "highest_range = df['Electric Range'].max()\n",
    "lowest_range = df['Electric Range'].min()\n",
    "\n",
    "max_range_car = df[df['Electric Range'] == highest_range][['Make', 'Model']]\n",
    "min_range_car = df[df['Electric Range'] == lowest_range][['Make', 'Model']]\n",
    "print(max_range_car, min_range_car)\n",
    "\n",
    "### 3. **Is the Maximum Electric Range Unique?**:\n",
    "#   - Filter the dataset to check how many vehicles have the maximum electric range.\n",
    "cars_with_max_range = df[df['Electric Range'] == highest_range]\n",
    "cars_with_max_range\n",
    "\n",
    "### 4. **Is the Minimum Electric Range Unique?**:\n",
    "#   - Similar to the maximum range, filter to check how many cars have the minimum electric range.\n",
    "cars_with_min_range = df[df['Electric Range'] == lowest_range]\n",
    "cars_with_min_range\n",
    "\n",
    "### 5. **Variation in Electric Range Between Car Makers and Models**:\n",
    "#   - Use `groupby()` to calculate the average electric range by car maker and model.\n",
    "range_by_maker_model = df.groupby(['Make', 'Model'])['Electric Range'].mean().reset_index()\n",
    "range_by_maker_model\n",
    "\n",
    "### 6. **Top 5 Cities Adopting EVs**:\n",
    "#   - Use `value_counts()` on the **City** column to find the top 5 cities with the most EVs.\n",
    "top_cities = df['City'].value_counts().head(5)\n",
    "top_cities\n",
    "\n",
    "### 7. **EV Adoption Rate by Car Makers Over the Years**:\n",
    "#   - Use `groupby()` on **Make** and **Model Year** to track how EV adoption has changed over time.\n",
    "adoption_rate_by_maker_year = df.groupby(['Make', 'Model Year']).size().reset_index(name='Count')\n",
    "adoption_rate_by_maker_year\n",
    "\n",
    "### 8. **Correlation Between Electric Range and City**:\n",
    "#   - This can be checked using correlation analysis between **Electric Range** and **City**.\n",
    "#   - Since cities are categorical, you may need to encode the cities and then calculate correlation.\n",
    "\n",
    "# [Result]\n",
    "\n",
    "### 9. **County with the Greatest Variety of EV Models**:\n",
    "variety_by_county = df.groupby('County')['Model'].nunique().reset_index(name='Unique Models')\n",
    "top_county = variety_by_county.sort_values(by='Unique Models', ascending=False).head(1)\n",
    "top_county"
   ]
  },
  {
   "cell_type": "markdown",
   "metadata": {},
   "source": [
    "### Step 12: Document and Communicate Findings\n",
    "- **Create Visual Summaries**\n",
    "- **Write a Summary Report**"
   ]
  },
  {
   "cell_type": "markdown",
   "metadata": {},
   "source": [
    "### Step 13: Next Steps\n",
    "- **Plan for Further Analysis**"
   ]
  },
  {
   "cell_type": "markdown",
   "metadata": {},
   "source": [
    "### Step 14: Review and Reiterate\n",
    "- **Review EDA**\n",
    "- **Iterate as Needed**"
   ]
  }
 ],
 "metadata": {
  "kernelspec": {
   "display_name": "Python 3",
   "language": "python",
   "name": "python3"
  },
  "language_info": {
   "codemirror_mode": {
    "name": "ipython",
    "version": 3
   },
   "file_extension": ".py",
   "mimetype": "text/x-python",
   "name": "python",
   "nbconvert_exporter": "python",
   "pygments_lexer": "ipython3",
   "version": "3.12.0"
  }
 },
 "nbformat": 4,
 "nbformat_minor": 2
}
